{
 "cells": [
  {
   "cell_type": "markdown",
   "id": "c5deb15a",
   "metadata": {},
   "source": [
    "##  Tutorial for the Workshop Computational Topology & Quantum Computing"
   ]
  },
  {
   "cell_type": "markdown",
   "id": "a4de68e0",
   "metadata": {},
   "source": [
    "## Computing the homology of simplicial complexes using GUDHI"
   ]
  },
  {
   "cell_type": "markdown",
   "id": "8c51acc1",
   "metadata": {},
   "source": [
    "Homology of a torus"
   ]
  },
  {
   "cell_type": "code",
   "execution_count": 185,
   "id": "a834f226",
   "metadata": {},
   "outputs": [],
   "source": [
    "# Let us start by importing all the libraries we need\n",
    "import gudhi as gd\n",
    "import networkx as nx"
   ]
  },
  {
   "cell_type": "code",
   "execution_count": 186,
   "id": "bb39e05f",
   "metadata": {},
   "outputs": [],
   "source": [
    "# Computing homology of a torus\n",
    "\n",
    "#Now, let us construct a topogical space - a torus\n",
    "#We will do it by explicitelly listing the simplices of the triangulation of a projective plane and \n",
    "#inputing them to so called simplex tree data structure (available in Gudhi)\n",
    "#Here is our triangulation:\n",
    "#   0-----3-----4-----0\n",
    "#   | \\   | \\   | \\   |\n",
    "#   |   \\ |   \\ |    \\|\n",
    "#   2-----7-----8-----2\n",
    "#   | \\   | \\   | \\   |\n",
    "#   |   \\ |   \\ |   \\ |\n",
    "#   1-----5-----6-----1\n",
    "#   | \\   | \\   | \\   |\n",
    "#   |   \\ |   \\ |   \\ |\n",
    "#   0-----3-----4-----0"
   ]
  },
  {
   "cell_type": "code",
   "execution_count": 187,
   "id": "68a20bd8",
   "metadata": {},
   "outputs": [],
   "source": [
    "## We define a simplicial complex via SimplexTree\n",
    "st = gd.SimplexTree()"
   ]
  },
  {
   "cell_type": "code",
   "execution_count": 188,
   "id": "be487485",
   "metadata": {},
   "outputs": [
    {
     "data": {
      "text/plain": [
       "True"
      ]
     },
     "execution_count": 188,
     "metadata": {},
     "output_type": "execute_result"
    }
   ],
   "source": [
    "# We add vertices\n",
    "st.insert([0])\n",
    "st.insert([1])\n",
    "st.insert([2])\n",
    "st.insert([3])\n",
    "st.insert([4])\n",
    "st.insert([5])\n",
    "st.insert([6])\n",
    "st.insert([7])\n",
    "st.insert([8])"
   ]
  },
  {
   "cell_type": "code",
   "execution_count": 189,
   "id": "408d692f",
   "metadata": {},
   "outputs": [
    {
     "data": {
      "text/plain": [
       "True"
      ]
     },
     "execution_count": 189,
     "metadata": {},
     "output_type": "execute_result"
    }
   ],
   "source": [
    "# We add triangle\n",
    "st.insert([0,2,7])\n",
    "st.insert([0,3,7])\n",
    "# We add triangle\n",
    "st.insert([2,1,5])\n",
    "st.insert([2,7,5])\n",
    "# We add triangle\n",
    "st.insert([1,5,3])\n",
    "st.insert([1,0,3])\n",
    "# We add triangle\n",
    "st.insert([3,7,8])\n",
    "st.insert([3,4,8])\n",
    "# We add triangle\n",
    "st.insert([7,5,6])\n",
    "st.insert([7,8,6])\n",
    "# We add triangle\n",
    "st.insert([5,6,4])\n",
    "st.insert([5,3,4])\n",
    "# We add triangle\n",
    "st.insert([4,8,2])\n",
    "st.insert([4,0,2])\n",
    "# We add triangle\n",
    "st.insert([8,6,1])\n",
    "st.insert([8,2,1])\n",
    "# We add triangle\n",
    "st.insert([8,6,1])\n",
    "st.insert([8,2,1])\n",
    "# We add triangle\n",
    "st.insert([6,4,0])\n",
    "st.insert([6,1,0])"
   ]
  },
  {
   "cell_type": "markdown",
   "id": "f3bc784e",
   "metadata": {},
   "source": [
    "# We want to check if everything the insertion when well"
   ]
  },
  {
   "cell_type": "code",
   "execution_count": 198,
   "id": "3ccf5e35",
   "metadata": {},
   "outputs": [
    {
     "name": "stdout",
     "output_type": "stream",
     "text": [
      "num_simplices= 54\n",
      "num_vertices= 9\n",
      "0-simplices  9\n",
      "1-simplices 27\n",
      "2-simplices 18\n"
     ]
    }
   ],
   "source": [
    "print(\"num_simplices=\", st.num_simplices())\n",
    "print(\"num_vertices=\", st.num_vertices())\n",
    "len( list(st.get_skeleton(0)) ) \n",
    "\n",
    "print(\"0-simplices \", len(list(st.get_skeleton(0))) )\n",
    "print(\"1-simplices\", len(list(st.get_skeleton(1))) - len(list(st.get_skeleton(0))) )\n",
    "print(\"2-simplices\", len(list(st.get_skeleton(2))) - len(list(st.get_skeleton(1))) )"
   ]
  },
  {
   "cell_type": "markdown",
   "id": "db3d0e60",
   "metadata": {},
   "source": [
    "# This is for Betti numbers computations"
   ]
  },
  {
   "cell_type": "code",
   "execution_count": 199,
   "id": "11c480f5",
   "metadata": {},
   "outputs": [
    {
     "data": {
      "text/plain": [
       "[1, 2, 1]"
      ]
     },
     "execution_count": 199,
     "metadata": {},
     "output_type": "execute_result"
    }
   ],
   "source": [
    "#computating the Betti numbers of the torus \n",
    "st.persistence(persistence_dim_max=True)\n",
    "st.betti_numbers()"
   ]
  },
  {
   "cell_type": "markdown",
   "id": "9500ac89",
   "metadata": {},
   "source": [
    "## Exercises "
   ]
  },
  {
   "cell_type": "markdown",
   "id": "196c616c",
   "metadata": {},
   "source": [
    "1. Implement a triangulation of a ruban GUDHI. For that you will use the triangulation below"
   ]
  },
  {
   "cell_type": "code",
   "execution_count": 200,
   "id": "405bff48",
   "metadata": {},
   "outputs": [],
   "source": [
    "\n",
    "  # 0-----4-----5------0\n",
    "  # | \\   | \\   | \\    |  \n",
    "  # |   \\ |   \\ |   \\  |     \n",
    "  # 1-----2-----3------1\n",
    "  "
   ]
  },
  {
   "cell_type": "code",
   "execution_count": 201,
   "id": "6d0c7b55",
   "metadata": {},
   "outputs": [],
   "source": [
    "#  Code here "
   ]
  },
  {
   "cell_type": "markdown",
   "id": "28ffa2d1",
   "metadata": {},
   "source": [
    "2. Computate the Betti numbers of the ruban"
   ]
  },
  {
   "cell_type": "code",
   "execution_count": 202,
   "id": "7e9fac60",
   "metadata": {},
   "outputs": [],
   "source": [
    "#  Code here "
   ]
  },
  {
   "cell_type": "markdown",
   "id": "ad1075f4",
   "metadata": {},
   "source": [
    "3. Implement a triangulation of a projective plane. For that you will use the triangulation below"
   ]
  },
  {
   "cell_type": "code",
   "execution_count": 203,
   "id": "193b108a",
   "metadata": {},
   "outputs": [],
   "source": [
    "#Here is the triangulation of a projective plane:\n",
    "#   0-----4-----3-----0\n",
    "#   | \\   | \\   | \\   |\n",
    "#   |   \\ |   \\ |    \\|\n",
    "#   1-----8-----7-----2\n",
    "#   | \\   | \\   | \\   |\n",
    "#   |   \\ |   \\ |   \\ |\n",
    "#   2-----5-----6-----1\n",
    "#   | \\   | \\   | \\   |\n",
    "#   |   \\ |   \\ |   \\ |\n",
    "#   0-----3-----4-----0"
   ]
  },
  {
   "cell_type": "code",
   "execution_count": 204,
   "id": "8b22c228",
   "metadata": {},
   "outputs": [],
   "source": [
    "#  Code here"
   ]
  },
  {
   "cell_type": "markdown",
   "id": "94434cde",
   "metadata": {},
   "source": [
    "4. Computate the Betti numbers of a projective plane"
   ]
  },
  {
   "cell_type": "code",
   "execution_count": 205,
   "id": "4c1bcfe9",
   "metadata": {},
   "outputs": [],
   "source": [
    "#  Code here"
   ]
  }
 ],
 "metadata": {
  "kernelspec": {
   "display_name": "Python 3 (ipykernel)",
   "language": "python",
   "name": "python3"
  },
  "language_info": {
   "codemirror_mode": {
    "name": "ipython",
    "version": 3
   },
   "file_extension": ".py",
   "mimetype": "text/x-python",
   "name": "python",
   "nbconvert_exporter": "python",
   "pygments_lexer": "ipython3",
   "version": "3.10.6"
  }
 },
 "nbformat": 4,
 "nbformat_minor": 5
}
